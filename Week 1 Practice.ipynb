{
 "cells": [
  {
   "cell_type": "markdown",
   "id": "2d78353f-cd34-4a13-9469-d2f98757a022",
   "metadata": {},
   "source": [
    "## IE 6400: Foundations of Data Analytics\n",
    "### Week 1 Practice: Introduction to Python and Control Structures\n",
    "\n",
    "</br>\n",
    "\n",
    "### MSDAE Northeastern University"
   ]
  },
  {
   "cell_type": "markdown",
   "id": "d6958e07-9576-4278-a5b4-a1e8421c9e07",
   "metadata": {},
   "source": [
    "</br></br>\n",
    "\n",
    "#### If-elif-else Practice"
   ]
  },
  {
   "cell_type": "code",
   "execution_count": 19,
   "id": "e395dfba-fefa-4bf2-911a-1745d617a105",
   "metadata": {},
   "outputs": [
    {
     "name": "stdout",
     "output_type": "stream",
     "text": [
      "That's my name too!\n",
      "Nice to meet you!\n"
     ]
    }
   ],
   "source": [
    "name = \"Santa\"\n",
    "\n",
    "if name.lower() == \"santa\":  # do not worry about this, .lower() simply coverts the text to lower case\n",
    "    print(\"That's my name too!\")\n",
    "elif name.lower() == \"qurat\":\n",
    "    print(\"That's a nice name.\")\n",
    "else:\n",
    "    print(f\"Hello {name}! That's a cool name!\")\n",
    "\n",
    "print(\"Nice to meet you!\")"
   ]
  },
  {
   "cell_type": "code",
   "execution_count": null,
   "id": "5f50e134-7680-4604-beb8-0a6e9c5004de",
   "metadata": {},
   "outputs": [
    {
     "name": "stdout",
     "output_type": "stream",
     "text": [
      "Hello Super Qurat! That's a cool name.\n",
      "Do you really have superpowers?\n",
      "Nice to meet you!\n"
     ]
    }
   ],
   "source": [
    "name = \"Super Qurat\"\n",
    "\n",
    "if name.lower() == \"qurat\": # do not worry about .lower() for now!\n",
    "    print(\"That's my name too!\")\n",
    "elif name.lower() == \"santa\":\n",
    "    print(\"That's a nice name.\")\n",
    "else:\n",
    "    print(f\"Hello {name}! That's a cool name.\")\n",
    "    if name.lower().startswith(\"super\"):\n",
    "        print(\"Do you really have superpowers?\")\n",
    "\n",
    "print(\"Nice to meet you!\")\n"
   ]
  },
  {
   "cell_type": "code",
   "execution_count": 29,
   "id": "90002e28-aaf5-4295-8354-32305e9fc333",
   "metadata": {},
   "outputs": [
    {
     "name": "stdout",
     "output_type": "stream",
     "text": [
      "The value stored in my variable is santa\n"
     ]
    }
   ],
   "source": [
    "name = \"santa\"\n",
    "print(f\"The value stored in my variable is {name}\")"
   ]
  },
  {
   "cell_type": "code",
   "execution_count": 34,
   "id": "67b10b49-c8bc-40a2-82c7-c857640aac6b",
   "metadata": {},
   "outputs": [
    {
     "name": "stdout",
     "output_type": "stream",
     "text": [
      "The value stored in my variable is santa more statement!!!\n"
     ]
    }
   ],
   "source": [
    "print(\"The value stored in my variable is\", name, 'more statement!!!')"
   ]
  },
  {
   "cell_type": "code",
   "execution_count": 32,
   "id": "07c4d367-f0d2-4835-835d-ece721c7421f",
   "metadata": {},
   "outputs": [
    {
     "name": "stdout",
     "output_type": "stream",
     "text": [
      "The answer is 0.33\n"
     ]
    }
   ],
   "source": [
    "x = 1/3\n",
    "print(f\"The answer is {x:.2f}\")"
   ]
  },
  {
   "cell_type": "markdown",
   "id": "5d0bd4e2-163a-4c34-a3da-6762c04a6511",
   "metadata": {},
   "source": [
    "#### Interesting Booleans"
   ]
  },
  {
   "cell_type": "code",
   "execution_count": 56,
   "id": "6015d6f5-76cb-401a-838a-5f4797963462",
   "metadata": {},
   "outputs": [
    {
     "name": "stdout",
     "output_type": "stream",
     "text": [
      "I'm truthy!\n"
     ]
    }
   ],
   "source": [
    "x = \".\"\n",
    "\n",
    "if x:\n",
    "    print(\"I'm truthy!\")\n",
    "else:\n",
    "    print(\"I'm falsey!\")"
   ]
  },
  {
   "cell_type": "markdown",
   "id": "c1096bfb-a41e-4dda-b5e3-ae6f04b4a5cf",
   "metadata": {},
   "source": [
    "#### Loops"
   ]
  },
  {
   "cell_type": "code",
   "execution_count": 43,
   "id": "82b9641a-decb-4d69-b877-3b59ff0dcdab",
   "metadata": {},
   "outputs": [
    {
     "name": "stdout",
     "output_type": "stream",
     "text": [
      "Gimme a P!\n",
      "Gimme a y!\n",
      "Gimme a t!\n",
      "Gimme a h!\n",
      "Gimme a o!\n",
      "Gimme a n!\n",
      "What's that spell?!! Python!\n"
     ]
    }
   ],
   "source": [
    "word = \"Python\"\n",
    "for pointer in word:\n",
    "    # print(pointer)\n",
    "    print(f\"Gimme a {pointer}!\")\n",
    "\n",
    "print(f\"What's that spell?!! {word}!\")"
   ]
  },
  {
   "cell_type": "code",
   "execution_count": 47,
   "id": "e896225f-daf4-46c5-933c-cf8d2e1376f8",
   "metadata": {},
   "outputs": [
    {
     "name": "stdout",
     "output_type": "stream",
     "text": [
      "123\n",
      "616\n",
      "308\n",
      "154\n",
      "77\n",
      "386\n",
      "193\n",
      "966\n",
      "483\n",
      "2416\n",
      "Too many iterations, I'm tired!\n"
     ]
    }
   ],
   "source": [
    "n = 123\n",
    "i = 0\n",
    "\n",
    "while n != 1:\n",
    "    print(n)\n",
    "    if n % 2 == 0:  # n is even\n",
    "        n = n // 2\n",
    "    else:  # n is odd\n",
    "        n = n * 5 + 1\n",
    "    i += 1\n",
    "    if i == 10:\n",
    "        print(f\"Too many iterations, I'm tired!\")\n",
    "        break"
   ]
  },
  {
   "cell_type": "markdown",
   "id": "67ad16f6-52a9-4449-9ce9-85cce09fba04",
   "metadata": {},
   "source": [
    "### In Class Explorations\n",
    "\n",
    "- Can strings or floats be used for booleans?\n",
    "- Can we add/subtract etc with strings?\n",
    "- Can we have two different datatypes between logical operators?"
   ]
  },
  {
   "cell_type": "code",
   "execution_count": 73,
   "id": "d9bfb292-4a0d-4db3-b546-b7040311ac8e",
   "metadata": {},
   "outputs": [
    {
     "data": {
      "text/plain": [
       "3"
      ]
     },
     "execution_count": 73,
     "metadata": {},
     "output_type": "execute_result"
    }
   ],
   "source": [
    "\"1\" and 3"
   ]
  },
  {
   "cell_type": "code",
   "execution_count": 74,
   "id": "1af80ea7-eda6-4222-b3d3-1faa1c0a7fd1",
   "metadata": {},
   "outputs": [
    {
     "data": {
      "text/plain": [
       "'1'"
      ]
     },
     "execution_count": 74,
     "metadata": {},
     "output_type": "execute_result"
    }
   ],
   "source": [
    "3 and \"1\""
   ]
  },
  {
   "cell_type": "code",
   "execution_count": 75,
   "id": "79b2e9e6-7fec-4e1d-abc2-e00b8f0e2a59",
   "metadata": {},
   "outputs": [
    {
     "data": {
      "text/plain": [
       "''"
      ]
     },
     "execution_count": 75,
     "metadata": {},
     "output_type": "execute_result"
    }
   ],
   "source": [
    "\"\" and 0"
   ]
  },
  {
   "cell_type": "code",
   "execution_count": 76,
   "id": "5ea5f666-3de0-4773-9d54-25e3b9e61444",
   "metadata": {},
   "outputs": [
    {
     "data": {
      "text/plain": [
       "0"
      ]
     },
     "execution_count": 76,
     "metadata": {},
     "output_type": "execute_result"
    }
   ],
   "source": [
    "0 and \"\""
   ]
  },
  {
   "cell_type": "code",
   "execution_count": 78,
   "id": "4b573144-d6f2-4e79-9430-23bed6b420a0",
   "metadata": {},
   "outputs": [
    {
     "data": {
      "text/plain": [
       "''"
      ]
     },
     "execution_count": 78,
     "metadata": {},
     "output_type": "execute_result"
    }
   ],
   "source": [
    "\"\" and 3"
   ]
  },
  {
   "cell_type": "code",
   "execution_count": 79,
   "id": "a5e076b3-16ac-4884-ab4e-b18044479630",
   "metadata": {},
   "outputs": [
    {
     "data": {
      "text/plain": [
       "'am'"
      ]
     },
     "execution_count": 79,
     "metadata": {},
     "output_type": "execute_result"
    }
   ],
   "source": [
    "\"I\" and \"am\""
   ]
  },
  {
   "cell_type": "code",
   "execution_count": null,
   "id": "f27b4f6d-29ae-4f5b-8df3-fea442d56b8e",
   "metadata": {},
   "outputs": [],
   "source": []
  }
 ],
 "metadata": {
  "kernelspec": {
   "display_name": "Python 3 (ipykernel)",
   "language": "python",
   "name": "python3"
  },
  "language_info": {
   "codemirror_mode": {
    "name": "ipython",
    "version": 3
   },
   "file_extension": ".py",
   "mimetype": "text/x-python",
   "name": "python",
   "nbconvert_exporter": "python",
   "pygments_lexer": "ipython3",
   "version": "3.11.7"
  }
 },
 "nbformat": 4,
 "nbformat_minor": 5
}
