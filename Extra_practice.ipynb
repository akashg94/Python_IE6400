{
 "cells": [
  {
   "cell_type": "markdown",
   "metadata": {
    "id": "H8PI3_IWkD82"
   },
   "source": [
    "## Module 2: Data Structures"
   ]
  },
  {
   "cell_type": "markdown",
   "metadata": {
    "id": "s-cOKrrtkM_d"
   },
   "source": [
    "##Lists"
   ]
  },
  {
   "cell_type": "code",
   "execution_count": 1,
   "metadata": {
    "id": "Cc-LYIJxkBe3"
   },
   "outputs": [
    {
     "name": "stdout",
     "output_type": "stream",
     "text": [
      "[10, 'Python', 3.14, 'Hello', 'World']\n"
     ]
    }
   ],
   "source": [
    "my_list = [10, \"Python\", 3.14, \"Hello\"]\n",
    "my_list.append(\"World\")\n",
    "print(my_list)"
   ]
  },
  {
   "cell_type": "markdown",
   "metadata": {
    "id": "DAXMtBm4kXg9"
   },
   "source": [
    "## List Operations"
   ]
  },
  {
   "cell_type": "code",
   "execution_count": 2,
   "metadata": {
    "id": "JkXQwDjLkaQU"
   },
   "outputs": [
    {
     "name": "stdout",
     "output_type": "stream",
     "text": [
      "['apple', 'banana', 'cherry', 'orange']\n",
      "['apple', 'cherry', 'orange']\n",
      "['apple', 'kiwi', 'cherry', 'orange']\n",
      "2\n",
      "['apple', 'cherry', 'kiwi', 'orange']\n"
     ]
    }
   ],
   "source": [
    "# Initializing a list\n",
    "fruits = [\"apple\", \"banana\", \"cherry\"]\n",
    "\n",
    "# Append operation\n",
    "fruits.append(\"orange\")\n",
    "print(fruits)  # ['apple', 'banana', 'cherry', 'orange']\n",
    "\n",
    "# Remove operation\n",
    "fruits.remove(\"banana\")\n",
    "print(fruits)  # ['apple', 'cherry', 'orange']\n",
    "\n",
    "# Insert operation\n",
    "fruits.insert(1, \"kiwi\")\n",
    "print(fruits)  # ['apple', 'kiwi', 'cherry', 'orange']\n",
    "\n",
    "# Index operation\n",
    "index_cherry = fruits.index(\"cherry\")\n",
    "print(index_cherry)  # 2\n",
    "\n",
    "# Sort operation\n",
    "fruits.sort()\n",
    "print(fruits)  # ['apple', 'cherry', 'kiwi', 'orange']\n"
   ]
  },
  {
   "cell_type": "markdown",
   "metadata": {
    "id": "oDl1z1vEklGd"
   },
   "source": [
    "## Indexing and Slicing Lists"
   ]
  },
  {
   "cell_type": "code",
   "execution_count": 3,
   "metadata": {
    "id": "xekmmy98kke9"
   },
   "outputs": [],
   "source": [
    "# Initializing a list\n",
    "numbers = [0, 1, 2, 3, 4, 5, 6, 7, 8, 9]\n",
    "\n",
    "# Indexing\n",
    "first_element = numbers[0]       # 0\n",
    "last_element = numbers[-1]      # 9\n",
    "\n",
    "# Slicing\n",
    "first_three = numbers[:3]       # [0, 1, 2]\n",
    "even_numbers = numbers[::2]     # [0, 2, 4, 6, 8]\n",
    "reverse_list = numbers[::-1]    # [9, 8, 7, 6, 5, 4, 3, 2, 1, 0]\n"
   ]
  },
  {
   "cell_type": "markdown",
   "metadata": {
    "id": "AVgmurmelS2l"
   },
   "source": [
    "## Tuples"
   ]
  },
  {
   "cell_type": "code",
   "execution_count": 4,
   "metadata": {
    "id": "yQvhlcXukxBc"
   },
   "outputs": [],
   "source": [
    "# Defining a tuple\n",
    "planets = (\"Mercury\", \"Venus\", \"Earth\", \"Mars\")\n"
   ]
  },
  {
   "cell_type": "markdown",
   "metadata": {
    "id": "zU3NWAwIlZsc"
   },
   "source": [
    "## Tuple Operations\n"
   ]
  },
  {
   "cell_type": "code",
   "execution_count": 5,
   "metadata": {
    "id": "6GFWhUwLlVh9"
   },
   "outputs": [],
   "source": [
    "# Initializing a tuple\n",
    "colors = (\"red\", \"blue\", \"green\", \"red\", \"yellow\")\n",
    "\n",
    "# Indexing\n",
    "first_color = colors[0]        # 'red'\n",
    "\n",
    "# Slicing\n",
    "primary_colors = colors[:2]    # ('red', 'blue')\n",
    "\n",
    "# Count operation\n",
    "red_count = colors.count(\"red\")  # 2\n",
    "\n",
    "# Length operation\n",
    "total_colors = len(colors)      # 5\n"
   ]
  },
  {
   "cell_type": "markdown",
   "metadata": {
    "id": "-hEA4OEglcs0"
   },
   "source": [
    "## Arrays"
   ]
  },
  {
   "cell_type": "code",
   "execution_count": 6,
   "metadata": {
    "id": "fD_WS_owlfNU"
   },
   "outputs": [],
   "source": [
    "from array import array\n",
    "\n",
    "# Initializing an array of integers ('i' typecode)\n",
    "int_array = array('i', [1, 2, 3, 4, 5])\n",
    "\n",
    "# Accessing and modifying elements\n",
    "int_array[2] = 6\n"
   ]
  },
  {
   "cell_type": "markdown",
   "metadata": {
    "id": "BLwIRhKIllEN"
   },
   "source": [
    "## Array Operations"
   ]
  },
  {
   "cell_type": "code",
   "execution_count": 7,
   "metadata": {
    "id": "R18QF3WSljJ1"
   },
   "outputs": [],
   "source": [
    "from array import array\n",
    "\n",
    "# Initializing an array of integers\n",
    "numbers = array('i', [1, 2, 3, 4, 5])\n",
    "\n",
    "# Append operation\n",
    "numbers.append(6)\n",
    "\n",
    "# Extend operation\n",
    "numbers.extend([7, 8])\n",
    "\n",
    "# Pop operation\n",
    "numbers.pop()\n",
    "\n",
    "# Index operation\n",
    "index_four = numbers.index(4)\n",
    "\n",
    "# Count operation\n",
    "count_threes = numbers.count(3)\n",
    "\n",
    "# Reverse operation\n",
    "numbers.reverse()\n"
   ]
  },
  {
   "cell_type": "markdown",
   "metadata": {
    "id": "ruVM40zklnsc"
   },
   "source": [
    "## Dictionaries"
   ]
  },
  {
   "cell_type": "code",
   "execution_count": 8,
   "metadata": {
    "id": "TPZzQk2rlnAM"
   },
   "outputs": [],
   "source": [
    "# Initializing a dictionary\n",
    "person = {\n",
    "    \"name\": \"John Doe\",\n",
    "    \"age\": 30,\n",
    "    \"is_student\": False\n",
    "}\n",
    "\n",
    "# Accessing values using keys\n",
    "person_name = person[\"name\"]\n"
   ]
  },
  {
   "cell_type": "markdown",
   "metadata": {
    "id": "ZZMQSToSlswM"
   },
   "source": [
    "## Dictionary Operations"
   ]
  },
  {
   "cell_type": "code",
   "execution_count": 9,
   "metadata": {
    "id": "dqA2AjkAlsF8"
   },
   "outputs": [],
   "source": [
    "# Initializing a dictionary\n",
    "book = {\n",
    "    \"title\": \"1984\",\n",
    "    \"author\": \"George Orwell\",\n",
    "    \"year\": 1949\n",
    "}\n",
    "\n",
    "# Add/Update entry\n",
    "book[\"publisher\"] = \"Penguin Books\"\n",
    "book[\"year\"] = 1950\n",
    "\n",
    "# Remove entry\n",
    "del book[\"year\"]\n",
    "\n",
    "# Get value\n",
    "author_name = book.get(\"author\")\n",
    "\n",
    "# List keys and values\n",
    "all_keys = book.keys()\n",
    "all_values = book.values()\n",
    "\n",
    "# Check key existence\n",
    "has_title = \"title\" in book\n"
   ]
  },
  {
   "cell_type": "markdown",
   "metadata": {
    "id": "_YL6ZY9ElweE"
   },
   "source": [
    "## Sets"
   ]
  },
  {
   "cell_type": "code",
   "execution_count": 10,
   "metadata": {
    "id": "uPtKqUCXlyKk"
   },
   "outputs": [],
   "source": [
    "# Creating a set\n",
    "fruits = {\"apple\", \"banana\", \"cherry\"}\n",
    "\n",
    "# Adding an element\n",
    "fruits.add(\"orange\")\n",
    "\n",
    "# Removing an element\n",
    "fruits.remove(\"banana\")\n",
    "\n",
    "# Union and Intersection\n",
    "other_fruits = {\"grape\", \"apple\"}\n",
    "combined = fruits | other_fruits\n",
    "common = fruits & other_fruits\n"
   ]
  },
  {
   "cell_type": "markdown",
   "metadata": {
    "id": "me-e2iZXl3uV"
   },
   "source": [
    "## Set Operations"
   ]
  },
  {
   "cell_type": "code",
   "execution_count": 11,
   "metadata": {
    "id": "5_DcM9_Nl3Fc"
   },
   "outputs": [],
   "source": [
    "A = {1, 2, 3, 4}\n",
    "B = {3, 4, 5, 6}\n",
    "\n",
    "# Union\n",
    "union_set = A | B\n",
    "\n",
    "# Intersection\n",
    "intersection_set = A & B\n",
    "\n",
    "# Difference\n",
    "difference_set = A - B\n",
    "\n",
    "# Symmetric Difference\n",
    "symmetric_diff = A ^ B\n",
    "\n",
    "# Subset and Superset Check\n",
    "is_subset = A.issubset(B)\n",
    "is_superset = A.issuperset(B)\n"
   ]
  },
  {
   "cell_type": "markdown",
   "metadata": {},
   "source": [
    "## Class Exercises\n",
    "\n",
    "### Problem 1\n",
    "\n",
    "- Create a list of numbers from 1 to 10.\n",
    "- Square each number in the list.\n",
    "- Remove all numbers greater than 50."
   ]
  },
  {
   "cell_type": "markdown",
   "metadata": {},
   "source": [
    "### Problem 2\n",
    "\n",
    "- Create a tuple with your name, age, and country.\n",
    "- Unpack the tuple into variables and print them."
   ]
  },
  {
   "cell_type": "markdown",
   "metadata": {},
   "source": [
    "### Problem 3\n",
    "\n",
    "- Create an array of numbers from 1 to 1,000,000.\n",
    "- Find the sum of all elements in the array."
   ]
  },
  {
   "cell_type": "markdown",
   "metadata": {},
   "source": [
    "### Problem 4\n",
    "\n",
    "- Create two sets of random numbers.\n",
    "- Find the union, intersection, and difference of the two sets."
   ]
  },
  {
   "cell_type": "markdown",
   "metadata": {},
   "source": [
    "# Practice Questions: Lists, Arrays, Sets, Dictionaries, and Tuples in Python\n",
    "\n",
    "## **1. Lists**\n",
    "1. Create a list of integers from 1 to 10. Add the number 11 to the list, then remove the number 5.\n",
        # Create the list
numbers = list(range(1, 11))

# Add the number 11
numbers.append(11)

# Remove the number 5
numbers.remove(5)

print("Updated list:", numbers)

    "2. Write a program to find all the even numbers in a list using list comprehension.\n",
         # Given list
numbers = list(range(1, 21))

# Find even numbers using list comprehension
even_numbers = [num for num in numbers if num % 2 == 0]

print("Even numbers:", even_numbers)

    "3. Reverse a list in Python using slicing.  \n",
# Original list
original_list = [1, 2, 3, 4, 5, 6]

# Reverse the list
reversed_list = original_list[::-1]

print("Reversed list:", reversed_list)


    "4. Create a nested list and access an element inside the nested structure.\n",

# Create a nested list
nested_list = [[1, 2, 3], [4, 5, 6], [7, 8, 9]]

# Access an element (e.g., the second element of the second list)
element = nested_list[1][1]

print("Accessed element:", element)

    "5. Sort a list of strings alphabetically and a list of numbers in descending order.\n",

# List of strings
strings = ["banana", "apple", "cherry", "date"]

# List of numbers
numbers = [4, 1, 7, 3, 9]

# Sort strings alphabetically
strings.sort()

# Sort numbers in descending order
numbers.sort(reverse=True)

print("Alphabetically sorted strings:", strings)
print("Numbers sorted in descending order:", numbers)

    "\n",
    "---\n",
    "\n",
    "## **2. Arrays**\n",
    "1. Import the `array` module and create an array of type integer with the numbers [10, 20, 30, 40, 50]. Append the number 60 to the array.\n",
     # Import the array module
import array

# Create an integer array
arr = array.array('i', [10, 20, 30, 40, 50])

# Append the number 60
arr.append(60)

print("Updated array:", arr)

    "2. Write a program to find the sum of all elements in an array.\n",

# Import the array module
import array

# Create an array
arr = array.array('i', [10, 20, 30, 40, 50])

# Find the sum of the elements
sum_of_elements = sum(arr)

print("Sum of all elements:", sum_of_elements)

    "3. Convert a Python list into an array and perform an element-wise square operation on the array.\n",

# Import the array module
import array

# Convert a Python list to an array
py_list = [1, 2, 3, 4, 5]
arr = array.array('i', py_list)

# Perform element-wise square operation
squared_array = array.array('i', (x**2 for x in arr))

print("Squared array:", squared_array)

    "4. Remove the second element from an array and display the updated array.\n",

# Import the array module
import array

# Create an array
arr = array.array('i', [10, 20, 30, 40, 50])

# Remove the second element (index 1)
arr.pop(1)

print("Updated array:", arr)

    "5. Slice the first three elements of an array and display them.\n",

# Import the array module
import array

# Create an array
arr = array.array('i', [10, 20, 30, 40, 50])

# Slice the first three elements
sliced_array = arr[:3]

print("First three elements:", sliced_array)

    "\n",
    "---\n",
    "\n",
    "## **3. Sets**\n",
    "1. Create a set of numbers `{1, 2, 3, 4, 5}`. Add the number 6 to the set, then remove the number 3.\n",
    "2. Find the union, intersection, difference, and symmetric difference between two sets: `{1, 2, 3}` and `{3, 4, 5}`.\n",
    "3. Check if a set `{1, 2, 3}` is a subset of another set `{1, 2, 3, 4, 5}`.\n",
    "4. Write a program to remove duplicates from a list by converting it into a set.\n",
    "5. Create a frozen set and explain its immutability by trying to add an element to it.\n",
    "\n",
    "---\n",
    "\n",
    "## **4. Dictionaries**\n",
    "1. Create a dictionary to store the names and ages of three people. Add a new entry for a fourth person.\n",
    "2. Write a program to retrieve all the keys, values, and key-value pairs from a dictionary.\n",
    "3. Create a dictionary that maps numbers (1–5) to their squares. Use dictionary comprehension.\n",
    "4. Check if a specific key exists in a dictionary and return its value if it exists.\n",
    "5. Merge two dictionaries: `dict1 = {'a': 1, 'b': 2}` and `dict2 = {'c': 3, 'd': 4}`.\n",
    "\n",
    "---\n",
    "\n",
    "## **5. Tuples**\n",
    "1. Create a tuple with the numbers (1, 2, 3, 4, 5). Access the first and last elements of the tuple.\n",
    "2. Write a program to check if a specific element (e.g., 3) exists in a tuple.\n",
    "3. Unpack a tuple with three elements into three variables and print them.\n",
    "4. Convert a tuple `(10, 20, 30)` into a list, modify the list, and convert it back to a tuple.\n",
    "5. Write a program to find the length of a tuple without using the `len()` function (hint: use a loop).\n",
    "\n",
    "---\n",
    "\n",
    "## **Bonus Challenges**\n",
    "1. Combine a list, a set, and a tuple into a single dictionary where the keys are elements from the set, and the values are tuples made from corresponding list and tuple elements.\n",
    "2. Write a program that takes a dictionary with nested dictionaries (e.g., `{\"a\": {\"b\": 1, \"c\": 2}}`) and prints all keys at every level.\n",
    "3. Create a list of tuples where each tuple represents a key-value pair from a dictionary.\n",
    "4. Write a program to find the unique elements in a list of tuples (e.g., `[(1, 2), (3, 4), (1, 2)]` should result in `{(1, 2), (3, 4)}`).\n",
    "5. Write a program that takes a list of dictionaries and finds the dictionary with the maximum value for a specific key.\n",
    "\n"
   ]
  },
  {
   "cell_type": "code",
   "execution_count": null,
   "metadata": {},
   "outputs": [],
   "source": []
  }
 ],
 "metadata": {
  "colab": {
   "provenance": []
  },
  "kernelspec": {
   "display_name": "Python 3 (ipykernel)",
   "language": "python",
   "name": "python3"
  },
  "language_info": {
   "codemirror_mode": {
    "name": "ipython",
    "version": 3
   },
   "file_extension": ".py",
   "mimetype": "text/x-python",
   "name": "python",
   "nbconvert_exporter": "python",
   "pygments_lexer": "ipython3",
   "version": "3.11.7"
  }
 },
 "nbformat": 4,
 "nbformat_minor": 4
}
