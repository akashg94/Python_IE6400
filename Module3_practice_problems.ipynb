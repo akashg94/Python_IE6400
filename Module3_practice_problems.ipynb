{
 "cells": [
  {
   "cell_type": "markdown",
   "id": "c984e30f-bd82-4b45-817f-9617305ff4fe",
   "metadata": {},
   "source": [
    "# IE 6400"
   ]
  },
  {
   "cell_type": "markdown",
   "id": "e73daf00-e6b7-4b89-9f58-3808acbe36df",
   "metadata": {},
   "source": [
    "# Module 3 Extra Practice Problems\n",
    "\n",
    "Here are some hands-on exercises to practice **Pandas** and **data manipulation skills** using the IMDb dataset linked [here](https://raw.githubusercontent.com/qurat-azim/instructionaldatasets/main/data/imdb.csv)."
   ]
  },
  {
   "cell_type": "markdown",
   "id": "7fb8075d-d2d7-4ddc-a8b1-abfda7417cda",
   "metadata": {},
   "source": [
    "## **1. Loading and Inspecting the Dataset**\n",
    "1. Load the dataset into a Pandas DataFrame.\n",
    "2. Display the first 5 rows of the dataset.\n",
    "3. Check the shape of the dataset (number of rows and columns).\n",
    "4. Display the column names and their data types.\n",
    "5. Check for missing values in the dataset.\n"
   ]
  },
  {
   "cell_type": "code",
   "execution_count": null,
   "id": "816fc3ea-7614-49c7-bbbd-7fd92946d9f4",
   "metadata": {},
   "outputs": [],
   "source": []
  },
  {
   "cell_type": "markdown",
   "id": "839a9a33-7256-4685-886d-741ff3c6de5c",
   "metadata": {},
   "source": [
    "## **2. Basic Data Exploration**\n",
    "6. Find the number of unique movies in the dataset.\n",
    "7. Find the oldest and newest movie in the dataset.\n",
    "8. Calculate the average rating of all movies.\n",
    "9. Find the movie with the highest rating and the movie with the lowest rating.\n",
    "10. Count the number of movies released each year.\n"
   ]
  },
  {
   "cell_type": "code",
   "execution_count": null,
   "id": "2fbb5bee-4d1e-4137-a602-7fad674bf3f1",
   "metadata": {},
   "outputs": [],
   "source": []
  },
  {
   "cell_type": "markdown",
   "id": "f89561ea-cb8e-418a-8261-0b2b71db0b34",
   "metadata": {},
   "source": [
    "## **3. Filtering and Sorting**\n",
    "11. Filter the dataset to include only movies released after the year 2000.\n",
    "12. Find all movies with a rating greater than 8.0.\n",
    "13. Sort the dataset by `Rating` in descending order.\n",
    "14. Sort the dataset by `Votes` in descending order and display the top 10 movies.\n",
    "15. Filter the dataset to include only movies in the \"Action\" genre.\n",
    "16. How many movies have more than a million votes?"
   ]
  },
  {
   "cell_type": "code",
   "execution_count": null,
   "id": "8a5f4d24-f56a-44c1-aa0f-5b1a07459b9e",
   "metadata": {},
   "outputs": [],
   "source": []
  },
  {
   "cell_type": "markdown",
   "id": "ef1bce4f-e8df-4375-bf73-bb10eccde92a",
   "metadata": {},
   "source": [
    "## **4. Grouping and Aggregation**\n",
    "17. Group the dataset by `Year` and calculate the average rating for each year.\n",
    "18. Find the year with the highest average rating.\n",
    "19. Group the dataset by `Genre` and count the number of movies in each genre.\n",
    "20. Find the genre with the highest average rating.\n",
    "21. Group the dataset by `Year` and calculate the total number of votes for each year."
   ]
  },
  {
   "cell_type": "code",
   "execution_count": null,
   "id": "590dd257-75a8-4452-8cd6-c53ae42328e8",
   "metadata": {},
   "outputs": [],
   "source": []
  },
  {
   "cell_type": "markdown",
   "id": "a3bdbea9-dfb5-4089-b181-50f801010c76",
   "metadata": {},
   "source": [
    "## **5. Further Data Manipulation**\n",
    "21. Create a new column `Decade` that categorizes movies into decades (e.g., 1980s, 1990s, etc.).\n",
    "22. Find the top 5 directors with the most movies in the dataset.\n",
    "23. Calculate the percentage of movies in each genre.\n",
    "24. Find the movie with the highest number of votes in each year.\n",
    "25. Create a new column `Rating_Category` that categorizes movies as \"Low\" (Rating < 5), \"Medium\" (5 ≤ Rating < 7), or \"High\" (Rating ≥ 7).\n",
    "26. Set the Certificate column value of any movie with more than 9.2 IMDB rating as the character 'Z'. How many such movies did you find?\n",
    "27. "
   ]
  },
  {
   "cell_type": "code",
   "execution_count": null,
   "id": "6d06b24e-1af4-4bf8-930e-08eeb49710b1",
   "metadata": {},
   "outputs": [],
   "source": []
  },
  {
   "cell_type": "code",
   "execution_count": null,
   "id": "8b6e4c2a-14f0-44e8-980b-fd70eb481e22",
   "metadata": {},
   "outputs": [],
   "source": []
  }
 ],
 "metadata": {
  "kernelspec": {
   "display_name": "Python 3 (ipykernel)",
   "language": "python",
   "name": "python3"
  },
  "language_info": {
   "codemirror_mode": {
    "name": "ipython",
    "version": 3
   },
   "file_extension": ".py",
   "mimetype": "text/x-python",
   "name": "python",
   "nbconvert_exporter": "python",
   "pygments_lexer": "ipython3",
   "version": "3.11.7"
  }
 },
 "nbformat": 4,
 "nbformat_minor": 5
}
